{
  "nbformat": 4,
  "nbformat_minor": 0,
  "metadata": {
    "colab": {
      "provenance": [],
      "authorship_tag": "ABX9TyNWB1nYu5/idOFLUpRv0T3X",
      "include_colab_link": true
    },
    "kernelspec": {
      "name": "python3",
      "display_name": "Python 3"
    },
    "language_info": {
      "name": "python"
    }
  },
  "cells": [
    {
      "cell_type": "markdown",
      "metadata": {
        "id": "view-in-github",
        "colab_type": "text"
      },
      "source": [
        "<a href=\"https://colab.research.google.com/github/Edenils0nSilva/Algoritmos_de_MachineLearning/blob/main/Topicos_de_engenharia_de_software.ipynb\" target=\"_parent\"><img src=\"https://colab.research.google.com/assets/colab-badge.svg\" alt=\"Open In Colab\"/></a>"
      ]
    },
    {
      "cell_type": "code",
      "execution_count": null,
      "metadata": {
        "id": "eXVXDl2-dGGI"
      },
      "outputs": [],
      "source": []
    },
    {
      "cell_type": "markdown",
      "source": [
        "## Algoritmo PCA\n"
      ],
      "metadata": {
        "id": "ChNtNsfDddvd"
      }
    },
    {
      "cell_type": "code",
      "source": [
        "import numpy as np\n",
        "from sklearn.decomposition import PCA\n",
        "from sklearn.preprocessing import StandardScaler\n",
        "\n",
        "data = np.array([[2.5, 2.4], [0.5, 0.7], [2.2, 2.9], [1.9, 2.2], [3.1, 3.0], [2.3, 2.7], [2, 1.6], [1, 1.1], [1.5, 1.6], [1.1, 0.9]])\n",
        "\n",
        "# Padronização dos dados\n",
        "scaler = StandardScaler()\n",
        "data_standardized = scaler.fit_transform(data)\n",
        "\n",
        "# Aplicação do PCA\n",
        "pca = PCA(n_components=1)\n",
        "principal_components = pca.fit_transform(data_standardized)\n",
        "\n",
        "print(\"Componentes principais:\\n\", principal_components)\n",
        "print(\"Variância explicada:\", pca.explained_variance_ratio_)\n"
      ],
      "metadata": {
        "colab": {
          "base_uri": "https://localhost:8080/"
        },
        "id": "8BSkZLpzdaal",
        "outputId": "33e5b53b-97e6-406a-c065-09c01331f0b0"
      },
      "execution_count": null,
      "outputs": [
        {
          "output_type": "stream",
          "name": "stdout",
          "text": [
            "Componentes principais:\n",
            " [[-1.08643242]\n",
            " [ 2.3089372 ]\n",
            " [-1.24191895]\n",
            " [-0.34078247]\n",
            " [-2.18429003]\n",
            " [-1.16073946]\n",
            " [ 0.09260467]\n",
            " [ 1.48210777]\n",
            " [ 0.56722643]\n",
            " [ 1.56328726]]\n",
            "Variância explicada: [0.96296464]\n"
          ]
        }
      ]
    },
    {
      "cell_type": "markdown",
      "source": [
        "## Random Forest"
      ],
      "metadata": {
        "id": "m8WVaiFPd7Cv"
      }
    },
    {
      "cell_type": "code",
      "source": [
        "from sklearn.datasets import load_iris\n",
        "from sklearn.model_selection import train_test_split\n",
        "from sklearn.ensemble import RandomForestClassifier\n",
        "from sklearn.metrics import accuracy_score\n",
        "\n",
        "\n",
        "data = load_iris()\n",
        "X = data.data\n",
        "y = data.target\n",
        "\n",
        "# Dividir os dados em conjuntos de treino e teste\n",
        "X_train, X_test, y_train, y_test = train_test_split(X, y, test_size=0.3, random_state=42)\n",
        "\n",
        "# Criar e treinar o modelo Random Forest\n",
        "clf = RandomForestClassifier(n_estimators=100, random_state=42)\n",
        "clf.fit(X_train, y_train)\n",
        "\n",
        "\n",
        "y_pred = clf.predict(X_test)\n",
        "\n",
        "# Avaliar a precisão do modelo\n",
        "accuracy = accuracy_score(y_test, y_pred)\n",
        "print(\"Precisão:\", accuracy)\n"
      ],
      "metadata": {
        "colab": {
          "base_uri": "https://localhost:8080/"
        },
        "id": "C8vfMVBMdtTD",
        "outputId": "d8e52341-12eb-476f-918e-e3a52e7a0307"
      },
      "execution_count": null,
      "outputs": [
        {
          "output_type": "stream",
          "name": "stdout",
          "text": [
            "Precisão: 1.0\n"
          ]
        }
      ]
    }
  ]
}